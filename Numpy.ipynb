{
 "cells": [
  {
   "cell_type": "markdown",
   "metadata": {},
   "source": [
    "# **Numpy**"
   ]
  },
  {
   "cell_type": "markdown",
   "metadata": {},
   "source": [
    "## **What is NumPy?**  \n",
    "NumPy is a Python library used for working with arrays.  \n",
    "It also has functions for working in domain of linear algebra, fourier transform, and matrices."
   ]
  },
  {
   "cell_type": "markdown",
   "metadata": {},
   "source": [
    "## **Why Use NumPy?**  \n",
    "In Python we have lists that serve the purpose of arrays, but they are slow to process.  \n",
    "NumPy aims to provide an array object that is up to 50x faster than traditional Python lists.  \n",
    "The array object in NumPy is called `ndarray`, it provides a lot of supporting functions that make working with `ndarray` very easy.  \n",
    "  \n",
    "Arrays are very frequently used in data science, where speed and resources are very important."
   ]
  },
  {
   "cell_type": "markdown",
   "metadata": {},
   "source": [
    "## **Why is NumPy Faster Than Lists?**  \n",
    "NumPy arrays are stored at one continuous place in memory unlike lists, so processes can access and manipulate them very efficiently.  \n",
    "\n",
    "This behavior is called **`locality of reference`** in computer science.\n",
    "\n",
    "This is the main reason why NumPy is faster than lists. Also it is optimized to work with latest CPU architectures."
   ]
  },
  {
   "cell_type": "markdown",
   "metadata": {},
   "source": [
    "## **Which Language is NumPy written in?**  \n",
    "NumPy is a Python library and is written partially in Python, but most of the parts that require fast computation are written in C or C++."
   ]
  },
  {
   "cell_type": "markdown",
   "metadata": {},
   "source": [
    "## **Setup numpy in application**  "
   ]
  },
  {
   "cell_type": "code",
   "execution_count": 2,
   "metadata": {},
   "outputs": [],
   "source": [
    "import numpy as np"
   ]
  },
  {
   "cell_type": "markdown",
   "metadata": {},
   "source": [
    "### **Checking NumPy Version**"
   ]
  },
  {
   "cell_type": "code",
   "execution_count": 3,
   "metadata": {},
   "outputs": [
    {
     "name": "stdout",
     "output_type": "stream",
     "text": [
      "1.19.5\n"
     ]
    }
   ],
   "source": [
    "print(np.__version__)"
   ]
  },
  {
   "cell_type": "markdown",
   "metadata": {},
   "source": [
    "## **NumPy Creating Arrays**  \n",
    "NumPy is used to work with arrays. The array object in NumPy is called ndarray.  \n",
    "  \n",
    "We can create a NumPy ndarray object by using the array() function.  \n",
    "  \n",
    "To create an ndarray, we can pass a `list, tuple or any array-like` object into the `array()` method, and it will be converted into an ndarray:"
   ]
  },
  {
   "cell_type": "code",
   "execution_count": 4,
   "metadata": {},
   "outputs": [
    {
     "name": "stdout",
     "output_type": "stream",
     "text": [
      "[1 2 3 4 5]\n",
      "<class 'numpy.ndarray'>\n"
     ]
    }
   ],
   "source": [
    "arr = np.array([1, 2, 3, 4, 5])\n",
    "\n",
    "print(arr)\n",
    "\n",
    "print(type(arr))"
   ]
  },
  {
   "cell_type": "markdown",
   "metadata": {},
   "source": [
    "> `type()`: This built-in Python function tells us the type of the object passed to it. Like in above code it shows that arr is numpy.ndarray type."
   ]
  },
  {
   "cell_type": "markdown",
   "metadata": {},
   "source": [
    "## **Dimensions in Arrays**  \n",
    "A dimension in arrays is one level of array depth (nested arrays).  \n",
    "`nested array: are arrays that have arrays as their elements.`  "
   ]
  },
  {
   "cell_type": "code",
   "execution_count": 14,
   "metadata": {},
   "outputs": [
    {
     "name": "stdout",
     "output_type": "stream",
     "text": [
      "42\n",
      "***********************\n",
      "[1 2 3 4 5]\n",
      "***********************\n",
      "[[ 1  2  3  4  5]\n",
      " [ 6  7  8  9 10]]\n",
      "***********************\n",
      "[[[ 0  1  2]\n",
      "  [10 11 12]]\n",
      "\n",
      " [[20 21 22]\n",
      "  [30 31 32]]]\n",
      "***********************\n"
     ]
    }
   ],
   "source": [
    "# 0-D Array\n",
    "ZeroDimensionalArray = np.array(42)\n",
    "print(ZeroDimensionalArray)\n",
    "print('***********************')\n",
    "\n",
    "# 1-D Array\n",
    "oneDimensionalArray = np.array([1, 2, 3, 4, 5])\n",
    "print(oneDimensionalArray)\n",
    "print('***********************')\n",
    "\n",
    "# 2-D Array\n",
    "#NumPy has a whole sub module dedicated towards matrix operations called numpy.mat\n",
    "twoDimensionalArray = np.array([[1,2,3,4,5], [6,7,8,9,10]])\n",
    "print(twoDimensionalArray)\n",
    "print('***********************')\n",
    "\n",
    "# 3-D Array\n",
    "threeDimensionalArray = np.array([[[0, 1, 2], [10, 11, 12]], [[20, 21, 22], [30, 31, 32]]])\n",
    "print(threeDimensionalArray)\n",
    "print('***********************')"
   ]
  },
  {
   "cell_type": "markdown",
   "metadata": {},
   "source": [
    "> **2D-Array: NumPy has a whole sub module dedicated towards matrix operations called `numpy.mat`**  \n",
    "> **3D-Array: These are often used to represent a 3rd order tensor.**"
   ]
  },
  {
   "cell_type": "markdown",
   "metadata": {},
   "source": [
    "## **Check Number of Dimensions?**  \n",
    "NumPy Arrays provides the ndim attribute that returns an integer that tells us how many dimensions the array have.  "
   ]
  },
  {
   "cell_type": "code",
   "execution_count": 8,
   "metadata": {},
   "outputs": [
    {
     "name": "stdout",
     "output_type": "stream",
     "text": [
      "0\n",
      "1\n",
      "2\n",
      "3\n"
     ]
    }
   ],
   "source": [
    "print(ZeroDimensionalArray.ndim)\n",
    "print(oneDimensionalArray.ndim)\n",
    "print(twoDimensionalArray.ndim)\n",
    "print(threeDimensionalArray.ndim)"
   ]
  },
  {
   "cell_type": "markdown",
   "metadata": {},
   "source": [
    "## **Higher Dimensional Arrays**  \n",
    "An array can have any number of dimensions.  \n",
    "  \n",
    "When the array is created, you can define the number of dimensions by using the **`ndmin`** argument."
   ]
  },
  {
   "cell_type": "code",
   "execution_count": 10,
   "metadata": {},
   "outputs": [
    {
     "name": "stdout",
     "output_type": "stream",
     "text": [
      "[[[[[1 2 3 4]]]]]\n",
      "Number of Dimensions : 5\n"
     ]
    }
   ],
   "source": [
    "multiDimensionalArray = np.array([1, 2, 3, 4], ndmin=5)\n",
    "\n",
    "print(multiDimensionalArray)\n",
    "print('Number of Dimensions :', multiDimensionalArray.ndim)"
   ]
  },
  {
   "cell_type": "markdown",
   "metadata": {},
   "source": [
    "**In this array the innermost dimension (5th dim) has 4 elements, the 4th dim has 1 element that is the `vector`, the 3rd dim has 1 element that is the `matrix with the vector`, the 2nd dim has 1 element that is `3D array` and 1st dim has 1 element that is a `4D array`.**"
   ]
  },
  {
   "cell_type": "markdown",
   "metadata": {},
   "source": [
    "## **NumPy Array Indexing**  \n",
    "### **Access Array Elements**  \n",
    "Array indexing is the same as accessing an array element.  \n",
    "You can access an array element by referring to its index number.  \n",
    "  \n",
    "The indexes in NumPy arrays start with 0, meaning that the first element has index 0, and the second has index 1 etc."
   ]
  },
  {
   "cell_type": "code",
   "execution_count": 15,
   "metadata": {},
   "outputs": [
    {
     "name": "stdout",
     "output_type": "stream",
     "text": [
      "2nd element on 1st dim:  2\n",
      "5th element on 2nd dim:  10\n",
      "12\n"
     ]
    }
   ],
   "source": [
    "print('2nd element on 1st dim: ', twoDimensionalArray[0, 1])\n",
    "print('5th element on 2nd dim: ', twoDimensionalArray[1, 4])\n",
    "\n",
    "#Access the third element of the second array of the first array:\n",
    "print(threeDimensionalArray[0, 1, 2])\n"
   ]
  },
  {
   "cell_type": "markdown",
   "metadata": {},
   "source": [
    "**Example Explained**  \n",
    "threeDimensionalArray = np.array([[[0, 1, 2], [10, 11, 12]], [[20, 21, 22], [30, 31, 32]]])  \n",
    "arr[0, 1, 2] prints the value 12.  \n",
    "  \n",
    "And this is why:  \n",
    "  \n",
    "The first number represents the first dimension, which contains two arrays:  \n",
    "[[0, 1, 2], [10, 11, 12]]  \n",
    "and:  \n",
    "[[20, 21, 22], [30, 31, 32]]  \n",
    "Since we selected 0, we are left with the first array:  \n",
    "[[0, 1, 2], [10, 11, 12]]  \n",
    "  \n",
    "The second number represents the second dimension, which also contains two arrays:  \n",
    "[0, 1, 2]  \n",
    "and:  \n",
    "[10, 11, 12]  \n",
    "Since we selected 1, we are left with the second array:  \n",
    "[10, 11, 12]  \n",
    "  \n",
    "The third number represents the third dimension, which contains three values:  \n",
    "10  \n",
    "11  \n",
    "12  \n",
    "Since we selected 2, we end up with the third value:  \n",
    "12  "
   ]
  },
  {
   "cell_type": "markdown",
   "metadata": {},
   "source": [
    "### **Negative Indexing**  \n",
    "Use negative indexing to access an array from the end."
   ]
  },
  {
   "cell_type": "code",
   "execution_count": 16,
   "metadata": {},
   "outputs": [
    {
     "name": "stdout",
     "output_type": "stream",
     "text": [
      "Last element from 2nd dim:  10\n"
     ]
    }
   ],
   "source": [
    "arr = np.array([[1,2,3,4,5], [6,7,8,9,10]])\n",
    "\n",
    "print('Last element from 2nd dim: ', arr[1, -1])"
   ]
  },
  {
   "cell_type": "markdown",
   "metadata": {},
   "source": [
    "## **NumPy Array Slicing**  \n",
    "### **Slicing arrays**  \n",
    "Slicing in python means taking elements from one given index to another given index.  \n",
    "  \n",
    "We pass slice instead of index like this: **`[start:end]`**.  \n",
    "  \n",
    "We can also define the step, like this: **`[start:end:step]`**.  \n",
    "> **Note:** The result includes the start index, but excludes the end index.  \n",
    "  \n",
    "If we don't pass start its considered 0  \n",
    "  \n",
    "If we don't pass end its considered length of array in that dimension  \n",
    "  \n",
    "If we don't pass step its considered 1  "
   ]
  },
  {
   "cell_type": "code",
   "execution_count": null,
   "metadata": {},
   "outputs": [],
   "source": []
  }
 ],
 "metadata": {
  "interpreter": {
   "hash": "4dc1cc02c367ca7ad0b1fc5e376b41e09845a28f3f36f373698abec275ce0fd0"
  },
  "kernelspec": {
   "display_name": "Python 3.8.8 64-bit ('base': conda)",
   "name": "python3"
  },
  "language_info": {
   "codemirror_mode": {
    "name": "ipython",
    "version": 3
   },
   "file_extension": ".py",
   "mimetype": "text/x-python",
   "name": "python",
   "nbconvert_exporter": "python",
   "pygments_lexer": "ipython3",
   "version": "3.8.8"
  },
  "orig_nbformat": 4
 },
 "nbformat": 4,
 "nbformat_minor": 2
}
